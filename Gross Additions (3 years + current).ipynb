{
 "cells": [
  {
   "cell_type": "code",
   "execution_count": 1,
   "id": "a2ce45bb",
   "metadata": {},
   "outputs": [],
   "source": [
    "import pandas as pd\n",
    "import datetime as dt"
   ]
  },
  {
   "cell_type": "code",
   "execution_count": 2,
   "id": "74860ef0",
   "metadata": {},
   "outputs": [
    {
     "name": "stderr",
     "output_type": "stream",
     "text": [
      "C:\\Users\\davist\\Anaconda3\\lib\\site-packages\\openpyxl\\styles\\stylesheet.py:226: UserWarning: Workbook contains no default style, apply openpyxl's default\n",
      "  warn(\"Workbook contains no default style, apply openpyxl's default\")\n"
     ]
    }
   ],
   "source": [
    "df = pd.read_excel('C:/Users/davist/Documents/coding projects/Daily Exercises/New Members from 2018-19 to May 2022.xlsx')"
   ]
  },
  {
   "cell_type": "code",
   "execution_count": 3,
   "id": "ede4ece1",
   "metadata": {},
   "outputs": [
    {
     "data": {
      "text/html": [
       "<div>\n",
       "<style scoped>\n",
       "    .dataframe tbody tr th:only-of-type {\n",
       "        vertical-align: middle;\n",
       "    }\n",
       "\n",
       "    .dataframe tbody tr th {\n",
       "        vertical-align: top;\n",
       "    }\n",
       "\n",
       "    .dataframe thead th {\n",
       "        text-align: right;\n",
       "    }\n",
       "</style>\n",
       "<table border=\"1\" class=\"dataframe\">\n",
       "  <thead>\n",
       "    <tr style=\"text-align: right;\">\n",
       "      <th></th>\n",
       "      <th>Member ID</th>\n",
       "      <th>Original Admit Date</th>\n",
       "    </tr>\n",
       "  </thead>\n",
       "  <tbody>\n",
       "    <tr>\n",
       "      <th>0</th>\n",
       "      <td>85134</td>\n",
       "      <td>2020-09-15</td>\n",
       "    </tr>\n",
       "    <tr>\n",
       "      <th>1</th>\n",
       "      <td>228917</td>\n",
       "      <td>2020-06-20</td>\n",
       "    </tr>\n",
       "    <tr>\n",
       "      <th>2</th>\n",
       "      <td>247949</td>\n",
       "      <td>2018-10-11</td>\n",
       "    </tr>\n",
       "    <tr>\n",
       "      <th>3</th>\n",
       "      <td>247950</td>\n",
       "      <td>2018-10-11</td>\n",
       "    </tr>\n",
       "    <tr>\n",
       "      <th>4</th>\n",
       "      <td>260984</td>\n",
       "      <td>2019-04-03</td>\n",
       "    </tr>\n",
       "    <tr>\n",
       "      <th>...</th>\n",
       "      <td>...</td>\n",
       "      <td>...</td>\n",
       "    </tr>\n",
       "    <tr>\n",
       "      <th>510668</th>\n",
       "      <td>11428093</td>\n",
       "      <td>2022-04-11</td>\n",
       "    </tr>\n",
       "    <tr>\n",
       "      <th>510669</th>\n",
       "      <td>11428096</td>\n",
       "      <td>2022-05-06</td>\n",
       "    </tr>\n",
       "    <tr>\n",
       "      <th>510670</th>\n",
       "      <td>11428097</td>\n",
       "      <td>2022-05-01</td>\n",
       "    </tr>\n",
       "    <tr>\n",
       "      <th>510671</th>\n",
       "      <td>11428099</td>\n",
       "      <td>2022-05-10</td>\n",
       "    </tr>\n",
       "    <tr>\n",
       "      <th>510672</th>\n",
       "      <td>11428100</td>\n",
       "      <td>2022-05-01</td>\n",
       "    </tr>\n",
       "  </tbody>\n",
       "</table>\n",
       "<p>510673 rows × 2 columns</p>\n",
       "</div>"
      ],
      "text/plain": [
       "        Member ID Original Admit Date\n",
       "0           85134          2020-09-15\n",
       "1          228917          2020-06-20\n",
       "2          247949          2018-10-11\n",
       "3          247950          2018-10-11\n",
       "4          260984          2019-04-03\n",
       "...           ...                 ...\n",
       "510668   11428093          2022-04-11\n",
       "510669   11428096          2022-05-06\n",
       "510670   11428097          2022-05-01\n",
       "510671   11428099          2022-05-10\n",
       "510672   11428100          2022-05-01\n",
       "\n",
       "[510673 rows x 2 columns]"
      ]
     },
     "execution_count": 3,
     "metadata": {},
     "output_type": "execute_result"
    }
   ],
   "source": [
    "df"
   ]
  },
  {
   "cell_type": "code",
   "execution_count": 4,
   "id": "9bfe992b",
   "metadata": {},
   "outputs": [
    {
     "data": {
      "text/plain": [
       "0        2020-09-15\n",
       "1        2020-06-20\n",
       "2        2018-10-11\n",
       "3        2018-10-11\n",
       "4        2019-04-03\n",
       "            ...    \n",
       "510668   2022-04-11\n",
       "510669   2022-05-06\n",
       "510670   2022-05-01\n",
       "510671   2022-05-10\n",
       "510672   2022-05-01\n",
       "Name: Original Admit Date, Length: 510673, dtype: datetime64[ns]"
      ]
     },
     "execution_count": 4,
     "metadata": {},
     "output_type": "execute_result"
    }
   ],
   "source": [
    "pd.to_datetime(df['Original Admit Date'])"
   ]
  },
  {
   "cell_type": "code",
   "execution_count": 5,
   "id": "55d58c4f",
   "metadata": {},
   "outputs": [],
   "source": [
    "df['month']=pd.to_datetime(df['Original Admit Date']).dt.month"
   ]
  },
  {
   "cell_type": "code",
   "execution_count": 6,
   "id": "1115ae8a",
   "metadata": {},
   "outputs": [],
   "source": [
    "df['year']=pd.to_datetime(df['Original Admit Date']).dt.year"
   ]
  },
  {
   "cell_type": "code",
   "execution_count": 12,
   "id": "3a103354",
   "metadata": {},
   "outputs": [],
   "source": [
    "df['Rotary Year']=''\n",
    "df.loc[df['month']<7, 'Rotary Year']=(df['year']-1).astype(str)+'-'+df['year'].astype(str)\n",
    "df.loc[df['month']>=7, 'Rotary Year']=df['year'].astype(str)+'-'+(df['year']+1).astype(str)\n"
   ]
  },
  {
   "cell_type": "code",
   "execution_count": 13,
   "id": "d4a01afd",
   "metadata": {},
   "outputs": [
    {
     "data": {
      "text/html": [
       "<div>\n",
       "<style scoped>\n",
       "    .dataframe tbody tr th:only-of-type {\n",
       "        vertical-align: middle;\n",
       "    }\n",
       "\n",
       "    .dataframe tbody tr th {\n",
       "        vertical-align: top;\n",
       "    }\n",
       "\n",
       "    .dataframe thead th {\n",
       "        text-align: right;\n",
       "    }\n",
       "</style>\n",
       "<table border=\"1\" class=\"dataframe\">\n",
       "  <thead>\n",
       "    <tr style=\"text-align: right;\">\n",
       "      <th></th>\n",
       "      <th>Member ID</th>\n",
       "      <th>Original Admit Date</th>\n",
       "      <th>month</th>\n",
       "      <th>year</th>\n",
       "      <th>Rotary Year</th>\n",
       "      <th>ry</th>\n",
       "    </tr>\n",
       "  </thead>\n",
       "  <tbody>\n",
       "    <tr>\n",
       "      <th>0</th>\n",
       "      <td>85134</td>\n",
       "      <td>2020-09-15</td>\n",
       "      <td>9</td>\n",
       "      <td>2020</td>\n",
       "      <td>2020-2021</td>\n",
       "      <td>2020-2021</td>\n",
       "    </tr>\n",
       "    <tr>\n",
       "      <th>1</th>\n",
       "      <td>228917</td>\n",
       "      <td>2020-06-20</td>\n",
       "      <td>6</td>\n",
       "      <td>2020</td>\n",
       "      <td>2019-2020</td>\n",
       "      <td>2019-2020</td>\n",
       "    </tr>\n",
       "    <tr>\n",
       "      <th>2</th>\n",
       "      <td>247949</td>\n",
       "      <td>2018-10-11</td>\n",
       "      <td>10</td>\n",
       "      <td>2018</td>\n",
       "      <td>2018-2019</td>\n",
       "      <td>2018-2019</td>\n",
       "    </tr>\n",
       "    <tr>\n",
       "      <th>3</th>\n",
       "      <td>247950</td>\n",
       "      <td>2018-10-11</td>\n",
       "      <td>10</td>\n",
       "      <td>2018</td>\n",
       "      <td>2018-2019</td>\n",
       "      <td>2018-2019</td>\n",
       "    </tr>\n",
       "    <tr>\n",
       "      <th>4</th>\n",
       "      <td>260984</td>\n",
       "      <td>2019-04-03</td>\n",
       "      <td>4</td>\n",
       "      <td>2019</td>\n",
       "      <td>2018-2019</td>\n",
       "      <td>2018-2019</td>\n",
       "    </tr>\n",
       "    <tr>\n",
       "      <th>...</th>\n",
       "      <td>...</td>\n",
       "      <td>...</td>\n",
       "      <td>...</td>\n",
       "      <td>...</td>\n",
       "      <td>...</td>\n",
       "      <td>...</td>\n",
       "    </tr>\n",
       "    <tr>\n",
       "      <th>510668</th>\n",
       "      <td>11428093</td>\n",
       "      <td>2022-04-11</td>\n",
       "      <td>4</td>\n",
       "      <td>2022</td>\n",
       "      <td>2021-2022</td>\n",
       "      <td>2021-2022</td>\n",
       "    </tr>\n",
       "    <tr>\n",
       "      <th>510669</th>\n",
       "      <td>11428096</td>\n",
       "      <td>2022-05-06</td>\n",
       "      <td>5</td>\n",
       "      <td>2022</td>\n",
       "      <td>2021-2022</td>\n",
       "      <td>2021-2022</td>\n",
       "    </tr>\n",
       "    <tr>\n",
       "      <th>510670</th>\n",
       "      <td>11428097</td>\n",
       "      <td>2022-05-01</td>\n",
       "      <td>5</td>\n",
       "      <td>2022</td>\n",
       "      <td>2021-2022</td>\n",
       "      <td>2021-2022</td>\n",
       "    </tr>\n",
       "    <tr>\n",
       "      <th>510671</th>\n",
       "      <td>11428099</td>\n",
       "      <td>2022-05-10</td>\n",
       "      <td>5</td>\n",
       "      <td>2022</td>\n",
       "      <td>2021-2022</td>\n",
       "      <td>2021-2022</td>\n",
       "    </tr>\n",
       "    <tr>\n",
       "      <th>510672</th>\n",
       "      <td>11428100</td>\n",
       "      <td>2022-05-01</td>\n",
       "      <td>5</td>\n",
       "      <td>2022</td>\n",
       "      <td>2021-2022</td>\n",
       "      <td>2021-2022</td>\n",
       "    </tr>\n",
       "  </tbody>\n",
       "</table>\n",
       "<p>510673 rows × 6 columns</p>\n",
       "</div>"
      ],
      "text/plain": [
       "        Member ID Original Admit Date  month  year Rotary Year         ry\n",
       "0           85134          2020-09-15      9  2020   2020-2021  2020-2021\n",
       "1          228917          2020-06-20      6  2020   2019-2020  2019-2020\n",
       "2          247949          2018-10-11     10  2018   2018-2019  2018-2019\n",
       "3          247950          2018-10-11     10  2018   2018-2019  2018-2019\n",
       "4          260984          2019-04-03      4  2019   2018-2019  2018-2019\n",
       "...           ...                 ...    ...   ...         ...        ...\n",
       "510668   11428093          2022-04-11      4  2022   2021-2022  2021-2022\n",
       "510669   11428096          2022-05-06      5  2022   2021-2022  2021-2022\n",
       "510670   11428097          2022-05-01      5  2022   2021-2022  2021-2022\n",
       "510671   11428099          2022-05-10      5  2022   2021-2022  2021-2022\n",
       "510672   11428100          2022-05-01      5  2022   2021-2022  2021-2022\n",
       "\n",
       "[510673 rows x 6 columns]"
      ]
     },
     "execution_count": 13,
     "metadata": {},
     "output_type": "execute_result"
    }
   ],
   "source": [
    "df"
   ]
  },
  {
   "cell_type": "code",
   "execution_count": 14,
   "id": "321f7abd",
   "metadata": {},
   "outputs": [],
   "source": [
    "additions = df[['Rotary Year','Member ID']].groupby(['Rotary Year']).count()"
   ]
  },
  {
   "cell_type": "code",
   "execution_count": 15,
   "id": "233ee634",
   "metadata": {},
   "outputs": [],
   "source": [
    "additions.rename(columns = {'Member ID':'Count'}, inplace = True)"
   ]
  },
  {
   "cell_type": "code",
   "execution_count": 16,
   "id": "b2e1f9d4",
   "metadata": {},
   "outputs": [
    {
     "data": {
      "text/html": [
       "<div>\n",
       "<style scoped>\n",
       "    .dataframe tbody tr th:only-of-type {\n",
       "        vertical-align: middle;\n",
       "    }\n",
       "\n",
       "    .dataframe tbody tr th {\n",
       "        vertical-align: top;\n",
       "    }\n",
       "\n",
       "    .dataframe thead th {\n",
       "        text-align: right;\n",
       "    }\n",
       "</style>\n",
       "<table border=\"1\" class=\"dataframe\">\n",
       "  <thead>\n",
       "    <tr style=\"text-align: right;\">\n",
       "      <th></th>\n",
       "      <th>Count</th>\n",
       "    </tr>\n",
       "    <tr>\n",
       "      <th>Rotary Year</th>\n",
       "      <th></th>\n",
       "    </tr>\n",
       "  </thead>\n",
       "  <tbody>\n",
       "    <tr>\n",
       "      <th>2018-2019</th>\n",
       "      <td>140761</td>\n",
       "    </tr>\n",
       "    <tr>\n",
       "      <th>2019-2020</th>\n",
       "      <td>129676</td>\n",
       "    </tr>\n",
       "    <tr>\n",
       "      <th>2020-2021</th>\n",
       "      <td>120917</td>\n",
       "    </tr>\n",
       "    <tr>\n",
       "      <th>2021-2022</th>\n",
       "      <td>119319</td>\n",
       "    </tr>\n",
       "  </tbody>\n",
       "</table>\n",
       "</div>"
      ],
      "text/plain": [
       "              Count\n",
       "Rotary Year        \n",
       "2018-2019    140761\n",
       "2019-2020    129676\n",
       "2020-2021    120917\n",
       "2021-2022    119319"
      ]
     },
     "execution_count": 16,
     "metadata": {},
     "output_type": "execute_result"
    }
   ],
   "source": [
    "additions"
   ]
  },
  {
   "cell_type": "code",
   "execution_count": null,
   "id": "7960fb45",
   "metadata": {},
   "outputs": [],
   "source": []
  },
  {
   "cell_type": "code",
   "execution_count": null,
   "id": "11375fb5",
   "metadata": {},
   "outputs": [],
   "source": []
  }
 ],
 "metadata": {
  "kernelspec": {
   "display_name": "Python 3 (ipykernel)",
   "language": "python",
   "name": "python3"
  },
  "language_info": {
   "codemirror_mode": {
    "name": "ipython",
    "version": 3
   },
   "file_extension": ".py",
   "mimetype": "text/x-python",
   "name": "python",
   "nbconvert_exporter": "python",
   "pygments_lexer": "ipython3",
   "version": "3.9.7"
  }
 },
 "nbformat": 4,
 "nbformat_minor": 5
}
